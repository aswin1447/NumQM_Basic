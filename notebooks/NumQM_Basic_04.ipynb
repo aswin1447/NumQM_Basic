{
 "cells": [
  {
   "cell_type": "code",
   "execution_count": 1,
   "id": "b486e471",
   "metadata": {},
   "outputs": [],
   "source": [
    "import numpy as np\n",
    "from numpy import linalg as npla\n",
    "import matplotlib.pyplot as plt\n",
    "from scipy import integrate"
   ]
  },
  {
   "cell_type": "code",
   "execution_count": 2,
   "id": "6ed3c494",
   "metadata": {},
   "outputs": [],
   "source": [
    "def eigen(A):\n",
    "    eigenValues, eigenVectors = npla.eig(A)\n",
    "    idx = np.argsort(eigenValues)\n",
    "    eigenValues = eigenValues[idx]\n",
    "    eigenVectors = eigenVectors[:,idx]\n",
    "    return (eigenValues, eigenVectors)"
   ]
  },
  {
   "cell_type": "code",
   "execution_count": 3,
   "id": "c8f3768f",
   "metadata": {},
   "outputs": [],
   "source": [
    "L=10.0  # box length is 2L; [-L,L]\n",
    "k=1     # force constant\n",
    "m=1     # particle mass \n",
    "hbar=1  # 1 in atomic units"
   ]
  },
  {
   "cell_type": "code",
   "execution_count": 4,
   "id": "29f9b31a",
   "metadata": {},
   "outputs": [
    {
     "name": "stdout",
     "output_type": "stream",
     "text": [
      "Number of basis:  1 , ground state energy is: 6.546885307943112\n",
      "Number of basis:  2 , ground state energy is: 6.546885307943112\n",
      "Number of basis:  4 , ground state energy is: 2.2409822186260655\n",
      "Number of basis:  8 , ground state energy is: 0.7712925817042399\n",
      "Number of basis:  16 , ground state energy is: 0.5026588346751345\n",
      "Number of basis:  32 , ground state energy is: 0.49999999991960487\n"
     ]
    }
   ],
   "source": [
    "def fn_V(x):\n",
    "    psi_i=np.sqrt(1/L)*np.sin((i+1)*(x-L)*np.pi/(2*L))\n",
    "    psi_j=np.sqrt(1/L)*np.sin((j+1)*(x-L)*np.pi/(2*L))\n",
    "    fn_V=psi_i * k * x**2/2 * psi_j\n",
    "    return fn_V\n",
    "\n",
    "for iN in range(0,6):\n",
    "    \n",
    "    N=2**iN    # No. of basis functions\n",
    "\n",
    "    V=np.zeros([N,N])\n",
    "    T=np.zeros([N,N])\n",
    "    H=np.zeros([N,N])\n",
    "    \n",
    "    for i in range(N):\n",
    "        for j in range(N):\n",
    "            Int_V=integrate.quadrature(fn_V, -L, L,maxiter=1000)\n",
    "            V[i][j]=Int_V[0]\n",
    "        #kinetic energy part is same as in the particle-in-a-box    \n",
    "        T[i][i]=(i+1)**2 * hbar**2 * np.pi**2 / (8 * m * L**2)\n",
    "\n",
    "    H=T+V\n",
    "\n",
    "    E,V=eigen(H)\n",
    "\n",
    "    print(\"Number of basis: \", N, \", ground state energy is:\", E[0])"
   ]
  },
  {
   "cell_type": "code",
   "execution_count": null,
   "id": "ce3a1cb5",
   "metadata": {},
   "outputs": [],
   "source": []
  }
 ],
 "metadata": {
  "kernelspec": {
   "display_name": "Python 3",
   "language": "python",
   "name": "python3"
  },
  "language_info": {
   "codemirror_mode": {
    "name": "ipython",
    "version": 3
   },
   "file_extension": ".py",
   "mimetype": "text/x-python",
   "name": "python",
   "nbconvert_exporter": "python",
   "pygments_lexer": "ipython3",
   "version": "3.9.4"
  }
 },
 "nbformat": 4,
 "nbformat_minor": 5
}
